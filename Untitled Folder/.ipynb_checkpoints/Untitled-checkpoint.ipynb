{
 "cells": [
  {
   "cell_type": "code",
   "execution_count": null,
   "metadata": {
    "collapsed": true
   },
   "outputs": [],
   "source": [
    "import numpy as np\n",
    "\n",
    "static_dim = 2\n",
    "T = 10\n",
    "windows = _get_windows_set()[-1]\n",
    "\n",
    "np.random.seed(1234)\n",
    "src_mc = np.random.rand(T, static_dim * len(windows))\n",
    "tgt_mc = np.random.rand(T, static_dim * len(windows))\n",
    "\n",
    "# pseudo parallel data\n",
    "XY = np.concatenate((src_mc, tgt_mc), axis=-1)\n",
    "gmm = GaussianMixture(n_components=4)\n",
    "gmm.fit(XY)\n",
    "\n",
    "paramgen = MLPG(gmm, windows=windows, swap=False)\n",
    "swap_paramgen = MLPG(gmm, windows=windows, swap=True)\n",
    "\n",
    "mc_converted1 = paramgen.transform(src_mc)\n",
    "mc_converted2 = swap_paramgen.transform(tgt_mc)\n",
    "\n",
    "src_mc = src_mc[:, :static_dim]\n",
    "tgt_mc = tgt_mc[:, :static_dim]\n",
    "\n",
    "assert norm(tgt_mc - mc_converted1) < norm(src_mc - mc_converted1)\n",
    "assert norm(tgt_mc - mc_converted2) > norm(src_mc - mc_converted2) "
   ]
  }
 ],
 "metadata": {
  "kernelspec": {
   "display_name": "Python 3",
   "language": "python",
   "name": "python3"
  },
  "language_info": {
   "codemirror_mode": {
    "name": "ipython",
    "version": 3
   },
   "file_extension": ".py",
   "mimetype": "text/x-python",
   "name": "python",
   "nbconvert_exporter": "python",
   "pygments_lexer": "ipython3",
   "version": "3.6.1"
  }
 },
 "nbformat": 4,
 "nbformat_minor": 2
}
